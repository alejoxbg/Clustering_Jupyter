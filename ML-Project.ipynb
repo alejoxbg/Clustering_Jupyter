{
 "cells": [
  {
   "cell_type": "markdown",
   "metadata": {},
   "source": [
    "1. Se lee el conjunto de datos de nube de puntos de KITTI y se visualiza"
   ]
  },
  {
   "cell_type": "code",
   "execution_count": 21,
   "metadata": {},
   "outputs": [],
   "source": [
    "import open3d\n",
    "import os\n",
    "import struct\n",
    "import numpy as np\n",
    "import matplotlib.pyplot as plt\n",
    "from mpl_toolkits.mplot3d import Axes3D\n",
    "def read_velodyne_bin(path):\n",
    "    '''\n",
    "    :param path:\n",
    "    :retorno: matriz de homografía de la nube de puntos, N*3\n",
    "    '''\n",
    "    pc_list = []\n",
    "    with open(path, 'rb') as f:\n",
    "        content = f.read()\n",
    "        pc_iter = struct.iter_unpack('ffff', content)\n",
    "        for idx, point in enumerate(pc_iter):\n",
    "            pc_list.append([point[0], point[1], point[2]])\n",
    "    return np.asarray(pc_list, dtype=np.float32)\n",
    "\n",
    "path='dbscan-data/0000000129.bin'\n",
    "#path='dbscan-data/0000000006.bin'\n",
    "#path='dbscan-data/0000000078.bin'\n",
    "# Se coloca la ruta de los datos\n",
    "origindata=read_velodyne_bin(path)\n",
    "\n",
    "pcd = open3d.geometry.PointCloud()\n",
    "\n",
    "pcd.points = open3d.utility.Vector3dVector(origindata)\n",
    "open3d.visualization.draw_geometries([pcd])"
   ]
  },
  {
   "cell_type": "markdown",
   "metadata": {},
   "source": [
    "2. Se extrae y se marcan los puntos en el suelo de la nube de puntos como azul\n",
    "\n",
    "(A) Función de PLS:"
   ]
  },
  {
   "cell_type": "code",
   "execution_count": 22,
   "metadata": {},
   "outputs": [],
   "source": [
    "import numpy as np\n",
    "import random\n",
    "\n",
    "def PlaneLeastSquare(X:np.ndarray):\n",
    "    #z=ax+by+c,return a,b,c\n",
    "    A=X.copy()\n",
    "    b=np.expand_dims(X[:,2],axis=1)\n",
    "    A[:,2]=1\n",
    "   \n",
    "    #Se resuleve directamente por X = (AT * A) -1 * AT * b\n",
    "\n",
    "    A_T = A.T\n",
    "    A1 = np.dot(A_T,A)\n",
    "    A2 = np.linalg.inv(A1)\n",
    "    A3 = np.dot(A2,A_T)\n",
    "    x= np.dot(A3, b)\n",
    "    return x"
   ]
  },
  {
   "cell_type": "markdown",
   "metadata": {},
   "source": [
    "  (B) Realización de la función RANSAC"
   ]
  },
  {
   "cell_type": "code",
   "execution_count": 3,
   "metadata": {},
   "outputs": [],
   "source": [
    "import numpy as np\n",
    "import random\n",
    "import math\n",
    "import sys\n",
    "\n",
    "def PlaneRANSAC(X:np.ndarray,tao:float,e=0.4,N_regular=100):\n",
    "    #return plane ids\n",
    "    s=X.shape[0]\n",
    "   \n",
    "    count=0\n",
    "    p=0.99\n",
    "    dic={}\n",
    "   \n",
    "    #Se determina el número de iteraciones\n",
    "    if math.log(1-(1-e)**s)<sys.float_info.min:\n",
    "        N=N_regular\n",
    "    else:\n",
    "        N=math.log(1-p)/math.log(1-(1-e)**s)\n",
    "       \n",
    "    #Se inician las iteraciones\n",
    "    while count < N:\n",
    "       \n",
    "       \n",
    "        ids=random.sample(range(0,s),3)\n",
    "        Points=X[ids]\n",
    "        p1,p2,p3=X[ids]\n",
    "        #Se determina si es colineal\n",
    "        L=p1-p2\n",
    "        R=p2-p3\n",
    "        if 0 in L or 0 in R:\n",
    "            continue\n",
    "        else:\n",
    "            if L[0]/R[0]==L[1]/R[1]==L[2]/R[2]:\n",
    "                continue\n",
    "               \n",
    "        #Se calculan los parámetros del plano\n",
    "        a = (p2[1] - p1[1])*(p3[2] - p1[2]) - (p2[2] - p1[2])*(p3[1] - p1[1]);    \n",
    "        b = (p2[2] - p1[2])*(p3[0] - p1[0]) - (p2[0] - p1[0])*(p3[2] - p1[2]);    \n",
    "        c = (p2[0] - p1[0])*(p3[1] - p1[1]) - (p2[1] - p1[1])*(p3[0] - p1[0]);    \n",
    "        d = 0 - (a * p1[0] + b*p1[1] + c*p1[2]);\n",
    "       \n",
    "        dis=abs(a*X[:,0]+b*X[:,1]+c*X[:,2]+d)/(a**2+b**2+c**2)**0.5\n",
    "       \n",
    "        idset=[]\n",
    "        for i ,d in enumerate(dis):\n",
    "            if d <tao:\n",
    "                idset.append(i)\n",
    "       \n",
    "       \n",
    "        #Se utiliza la función definida anteriormente PLANELEASTSQUARE\n",
    "        p=PlaneLeastSquare(X[idset])\n",
    "        a,b,c,d=p[0],p[1],-1,p[2]\n",
    "       \n",
    "       \n",
    "        dic[len(idset)]=[a,b,c,d]\n",
    "       \n",
    "        if len(idset)>s*(1-e):\n",
    "            break\n",
    "       \n",
    "        count+=1\n",
    "   \n",
    "    parm=dic[max(dic.keys())]\n",
    "    a,b,c,d=parm\n",
    "    dis=abs(a*X[:,0]+b*X[:,1]+c*X[:,2]+d)/(a**2+b**2+c**2)**0.5\n",
    "       \n",
    "    idset=[]\n",
    "    for i ,d in enumerate(dis):\n",
    "        if d <tao:\n",
    "            idset.append(i)\n",
    "    return np.array(idset)"
   ]
  },
  {
   "cell_type": "markdown",
   "metadata": {},
   "source": [
    "  (C) Se Llama y se visualiza"
   ]
  },
  {
   "cell_type": "code",
   "execution_count": 4,
   "metadata": {},
   "outputs": [],
   "source": [
    "planeids=PlaneRANSAC(origindata,0.4)\n",
    "planedata=origindata[planeids]\n",
    "planepcd = open3d.geometry.PointCloud()\n",
    "planepcd.points = open3d.utility.Vector3dVector(planedata)\n",
    "\n",
    "\n",
    "c=[0,0,255]\n",
    "cs=np.tile(c,(planedata.shape[0],1))\n",
    "planepcd.colors=open3d.Vector3dVector(cs)\n",
    "\n",
    "othersids=[]\n",
    "for i in range(origindata.shape[0]):\n",
    "    if i not in planeids:\n",
    "        othersids.append(i)\n",
    "otherdata=origindata[othersids]\n",
    "otherpcd = open3d.geometry.PointCloud()\n",
    "otherpcd.points = open3d.utility.Vector3dVector(otherdata)\n",
    "c=[255,0,0]\n",
    "cs=np.tile(c,(otherdata.shape[0],1))\n",
    "otherpcd.colors=open3d.Vector3dVector(cs)"
   ]
  },
  {
   "cell_type": "code",
   "execution_count": 16,
   "metadata": {},
   "outputs": [],
   "source": [
    "#VISUALIZAR EL SUELO Y ENTORNO\n",
    "open3d.visualization.draw_geometries([planepcd,otherpcd])"
   ]
  },
  {
   "cell_type": "code",
   "execution_count": 17,
   "metadata": {},
   "outputs": [],
   "source": [
    "#VISUALIZAR SIN SUELO\n",
    "open3d.visualization.draw_geometries([otherpcd])"
   ]
  },
  {
   "cell_type": "markdown",
   "metadata": {},
   "source": [
    "3. Agrupación de nubes de puntos fuera del suelo"
   ]
  },
  {
   "cell_type": "markdown",
   "metadata": {},
   "source": [
    "(A) Agrupación mediante el método K-Means en sklearn"
   ]
  },
  {
   "cell_type": "code",
   "execution_count": 18,
   "metadata": {},
   "outputs": [],
   "source": [
    "import sklearn.cluster\n",
    "\n",
    "Css=sklearn.cluster.KMeans(n_clusters=40).fit(otherdata)\n",
    "ypred=np.array(Css.labels_)\n",
    "ddraw=[]\n",
    "\n",
    "colorset=[[222,0,0],[0,224,0],[0,255,255],[222,244,0],[255,0,255],[128,0,0]]\n",
    "for cluuus in set(ypred):\n",
    "   \n",
    "    kaka=np.where(ypred==cluuus)\n",
    "    ppk=open3d.geometry.PointCloud()\n",
    "    ppk.points = open3d.utility.Vector3dVector(otherdata[kaka])\n",
    "\n",
    "    c=colorset[cluuus%6]\n",
    "    \n",
    "    cs=np.tile(c,(otherdata[kaka].shape[0],1))\n",
    "    ppk.colors=open3d.Vector3dVector(cs)\n",
    "    ddraw.append(ppk)\n",
    "\n",
    "open3d.visualization.draw_geometries(ddraw)"
   ]
  },
  {
   "cell_type": "code",
   "execution_count": null,
   "metadata": {},
   "outputs": [],
   "source": [
    "ddraw.append(planepcd)\n",
    "open3d.visualization.draw_geometries(ddraw)"
   ]
  },
  {
   "cell_type": "markdown",
   "metadata": {},
   "source": [
    "(B) Agrupación mediante el método DBSCAN en sklearn"
   ]
  },
  {
   "cell_type": "code",
   "execution_count": 19,
   "metadata": {},
   "outputs": [],
   "source": [
    "import sklearn.cluster\n",
    "\n",
    "#Css=sklearn.cluster.DBSCAN(eps=0.50, min_samples=4).fit(otherdata)\n",
    "#Css=sklearn.cluster.DBSCAN(eps=0.45, min_samples=4).fit(otherdata)\n",
    "Css=sklearn.cluster.DBSCAN(eps=0.45, min_samples=22).fit(otherdata)\n",
    "\n",
    "ypred=np.array(Css.labels_)\n",
    "ddraw=[]\n",
    "\n",
    "colorset=[[255,0,0],[0,224,0],[0,255,255],[222,244,0],[255,0,255],[128,0,0]]\n",
    "for cluuus in set(ypred):\n",
    "   \n",
    "    kaka=np.where(ypred==cluuus)\n",
    "    ppk=open3d.geometry.PointCloud()\n",
    "    ppk.points = open3d.utility.Vector3dVector(otherdata[kaka])\n",
    "\n",
    "    c=colorset[cluuus%6]\n",
    "    if cluuus==-1:\n",
    "        c=[0,0,0]\n",
    "        #c=[255,255,255]\n",
    "\n",
    "    cs=np.tile(c,(otherdata[kaka].shape[0],1))\n",
    "    ppk.colors=open3d.Vector3dVector(cs)\n",
    "    ddraw.append(ppk)\n",
    "\n",
    "open3d.visualization.draw_geometries(ddraw)"
   ]
  },
  {
   "cell_type": "code",
   "execution_count": null,
   "metadata": {},
   "outputs": [],
   "source": [
    "ddraw.append(planepcd)\n",
    "open3d.visualization.draw_geometries(ddraw)"
   ]
  },
  {
   "cell_type": "markdown",
   "metadata": {},
   "source": [
    "(C) Agrupación mediante el método HDBSCAN"
   ]
  },
  {
   "cell_type": "code",
   "execution_count": 20,
   "metadata": {},
   "outputs": [],
   "source": [
    "import hdbscan\n",
    "#Css=hdbscan.HDBSCAN(min_cluster_size=15).fit(otherdata)\n",
    "#Css=hdbscan.HDBSCAN(cluster_selection_epsilon=0.45, min_samples=22).fit(otherdata)\n",
    "Css=hdbscan.HDBSCAN(min_cluster_size=30,cluster_selection_epsilon=0.5).fit(otherdata)\n",
    "\n",
    "ypred=np.array(Css.labels_)\n",
    "ddraw=[]\n",
    "\n",
    "colorset=[[222,0,0],[0,224,0],[0,255,255],[222,244,0],[255,0,255],[128,0,0]]\n",
    "for cluuus in set(ypred):\n",
    "   \n",
    "    kaka=np.where(ypred==cluuus)\n",
    "    ppk=open3d.geometry.PointCloud()\n",
    "    ppk.points = open3d.utility.Vector3dVector(otherdata[kaka])\n",
    "\n",
    "    c=colorset[cluuus%6]\n",
    "    if cluuus==-1:\n",
    "        c=[0,0,0]\n",
    "        #c=[255,255,255]\n",
    "\n",
    "    cs=np.tile(c,(otherdata[kaka].shape[0],1))\n",
    "    ppk.colors=open3d.Vector3dVector(cs)\n",
    "    ddraw.append(ppk)\n",
    "\n",
    "open3d.visualization.draw_geometries(ddraw)"
   ]
  },
  {
   "cell_type": "code",
   "execution_count": null,
   "metadata": {},
   "outputs": [],
   "source": [
    "ddraw.append(planepcd)\n",
    "open3d.visualization.draw_geometries(ddraw)"
   ]
  },
  {
   "cell_type": "code",
   "execution_count": null,
   "metadata": {},
   "outputs": [],
   "source": []
  }
 ],
 "metadata": {
  "kernelspec": {
   "display_name": "Python 3",
   "language": "python",
   "name": "python3"
  },
  "language_info": {
   "codemirror_mode": {
    "name": "ipython",
    "version": 3
   },
   "file_extension": ".py",
   "mimetype": "text/x-python",
   "name": "python",
   "nbconvert_exporter": "python",
   "pygments_lexer": "ipython3",
   "version": "3.6.9"
  }
 },
 "nbformat": 4,
 "nbformat_minor": 4
}
